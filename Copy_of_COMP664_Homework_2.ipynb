{
  "nbformat": 4,
  "nbformat_minor": 0,
  "metadata": {
    "colab": {
      "provenance": [],
      "include_colab_link": true
    },
    "kernelspec": {
      "name": "python3",
      "display_name": "Python 3"
    },
    "language_info": {
      "name": "python"
    }
  },
  "cells": [
    {
      "cell_type": "markdown",
      "metadata": {
        "id": "view-in-github",
        "colab_type": "text"
      },
      "source": [
        "<a href=\"https://colab.research.google.com/github/heesoo-jang/comp664-deep-learning-spring-2023/blob/main/Copy_of_COMP664_Homework_2.ipynb\" target=\"_parent\"><img src=\"https://colab.research.google.com/assets/colab-badge.svg\" alt=\"Open In Colab\"/></a>"
      ]
    },
    {
      "cell_type": "markdown",
      "source": [
        "# 1. Logistic Regression for Binary Classification (1.5 points)\n",
        "\n",
        "In softmax regression, the model's output probabilities are given by\n",
        "\n",
        "$$p(y|\\mathbf{o}) = \\mathrm{softmax}(\\mathbf{o})_y = \\frac{\\exp(o_y)}{\\sum_{y'} \\exp(o_{y'})}$$\n",
        "\n",
        "1. Show that this parametrization has a spurious degree of freedom. That is, show that both $\\mathbf{o}$ and $\\mathbf{o} + c$ with $c \\in \\mathbb{R}$ lead to the same probability estimate.\n",
        "\n",
        "2. For binary classification, i.e. whenever we have only two classes $\\{-1, 1\\}$, we can arbitrarily set $o_{-1} = 0$. Using the shorthand $o = o_1$ show that this is equivalent to \n",
        "\n",
        "$$p(y=1|o) = \\frac{1}{1 + \\exp(-o)}$$\n",
        "\n",
        "3. Show that the log-likelihood loss (often called logistic loss) for labels $y \\in \\{-1, 1\\}$ is thus given by \n",
        "\n",
        "$$-\\log p(y|o) = \\log (1 + \\exp(-y \\cdot o))$$\n",
        "\n",
        "4. Show that for $y = 1$ the logistic loss asymptotes to $0$ for $o \\to \\infty$ and to $\\infty$ for $o \\to -\\infty$. "
      ],
      "metadata": {
        "id": "0VV0ToY_fa2M"
      }
    },
    {
      "cell_type": "code",
      "source": [],
      "metadata": {
        "id": "V5lmlaPmdbMU"
      },
      "execution_count": 10,
      "outputs": []
    },
    {
      "cell_type": "markdown",
      "source": [
        "# 2. Implementing the logistic loss (1 point)\n",
        "\n",
        "1. Implement the binary logistic loss $l(y,o) = \\log (1 + \\exp(-y \\cdot o))$ in numpy.\n",
        "1. Plot its values for $y \\in \\{-1, 1\\}$ over the range of $o \\in [-5, 5]$.\n",
        "1. Derive the derivative of $l(y,o)$ and show your work. Then, in a new plot, plot derivative of $l(y,o)$ with respect to $o$ for $y \\in \\{-1, 1\\}$ and for $o \\in [-5, 5]$ without using any automatic differentiation software (e.g. Pytorch, TensorFlow, JAX, etc.).\n",
        "1. In a new plot, plot $l(y,o)$ with $y = 1$ and $o ∈ [-1000, 1000]$. What happens for large positive and large negative values of $o$? Why?"
      ],
      "metadata": {
        "id": "dMcRnYVRfxfp"
      }
    },
    {
      "cell_type": "code",
      "source": [
        "# binary logistic loss function in numpy\n",
        "import numpy as np\n",
        "import matplotlib.pyplot as plt\n",
        "\n",
        "def logistic_loss(y, o):\n",
        "    return np.log(1 + np.exp(-y * o))"
      ],
      "metadata": {
        "id": "DfB0bU_Td6cy"
      },
      "execution_count": 11,
      "outputs": []
    },
    {
      "cell_type": "code",
      "source": [
        "# a plot of the logistic loss for y in {-1, 1} over the range of o in [-5, 5]\n",
        "\n",
        "o = np.linspace(-5, 5, 100)\n",
        "y = [-1, 1]\n",
        "\n",
        "for y_val in y:\n",
        "    plt.plot(o, logistic_loss(y_val, o), label=f'y={y_val}')\n",
        "plt.xlabel('o')\n",
        "plt.ylabel('logistic loss')\n",
        "plt.legend()\n",
        "plt.show()"
      ],
      "metadata": {
        "id": "DTi2SdJ5eTWh",
        "outputId": "544bd20d-c214-4d9e-f2a7-b705b4ab4b05",
        "colab": {
          "base_uri": "https://localhost:8080/",
          "height": 279
        }
      },
      "execution_count": 12,
      "outputs": [
        {
          "output_type": "display_data",
          "data": {
            "text/plain": [
              "<Figure size 432x288 with 1 Axes>"
            ],
            "image/png": "[encoded data removed]"
          },
          "metadata": {
            "needs_background": "light"
          }
        }
      ]
    },
    {
      "cell_type": "code",
      "source": [
        "# The derivative of logistic loss with respect to o is given by ∂/∂𝑜𝑙(𝑦,𝑜)= −𝑦*(1/(1+exp(−𝑦⋅𝑜)))\n",
        "\n",
        "def derivative_loss(y,o):\n",
        "    return -y*(1/(1+np.exp(-y*o)))"
      ],
      "metadata": {
        "id": "DMT6DEhdeo09"
      },
      "execution_count": 13,
      "outputs": []
    },
    {
      "cell_type": "code",
      "source": [
        "# plot\n",
        "\n",
        "for y_val in y:\n",
        "    plt.plot(o, derivative_loss(y_val, o), label=f'y={y_val}')\n",
        "plt.xlabel('o')\n",
        "plt.ylabel('derivative of logistic loss')\n",
        "plt.legend()\n",
        "plt.show()"
      ],
      "metadata": {
        "colab": {
          "base_uri": "https://localhost:8080/",
          "height": 279
        },
        "id": "i7hojq4uevmb",
        "outputId": "5d8fa352-0ccb-4203-d377-fd851eca5d40"
      },
      "execution_count": 14,
      "outputs": [
        {
          "output_type": "display_data",
          "data": {
            "text/plain": [
              "<Figure size 432x288 with 1 Axes>"
            ],
            "image/png": "[encoded data removed]"
          },
          "metadata": {
            "needs_background": "light"
          }
        }
      ]
    },
    {
      "cell_type": "code",
      "source": [
        "# Finally, in a new plot, plotting 𝑙(𝑦,𝑜) with 𝑦=1 and 𝑜∈[−1000,1000] . \n",
        "# As 𝑜 approaches positive infinity, the logistic loss asymptotes to zero, and as 𝑜 approaches negative infinity, the logistic loss approaches infinity\n",
        "\n",
        "o = np.linspace(-1000, 1000, 100)\n",
        "y = 1\n",
        "plt.plot(o, logistic_loss(y, o), label=f'y={y}')\n",
        "plt.xlabel('o')\n",
        "plt.ylabel('logistic loss')\n",
        "plt.legend()\n",
        "plt.show()"
      ],
      "metadata": {
        "colab": {
          "base_uri": "https://localhost:8080/",
          "height": 315
        },
        "id": "x_sMEMsxe2WU",
        "outputId": "6999ddfb-486d-42ed-f48e-ff5b5a8a8009"
      },
      "execution_count": 15,
      "outputs": [
        {
          "output_type": "stream",
          "name": "stderr",
          "text": [
            "<ipython-input-11-be0106b7514a>:6: RuntimeWarning: overflow encountered in exp\n",
            "  return np.log(1 + np.exp(-y * o))\n"
          ]
        },
        {
          "output_type": "display_data",
          "data": {
            "text/plain": [
              "<Figure size 432x288 with 1 Axes>"
            ],
            "image/png": "[encoded data removed]"
          },
          "metadata": {
            "needs_background": "light"
          }
        }
      ]
    },
    {
      "cell_type": "markdown",
      "source": [
        "This happens because as 𝑜 becomes large and positive, the value of exp(−𝑦⋅𝑜) becomes very small and so the value of log(1+exp(−𝑦⋅𝑜)) becomes closer and closer to log(1) which is zero. On the other hand, as 𝑜 becomes large and negative, the value of exp(−𝑦⋅𝑜) becomes very large and so the value of log(1+exp(−𝑦⋅𝑜)) becomes larger and larger, and the the logistic loss asymptotes to infinity."
      ],
      "metadata": {
        "id": "Kts2lk6Te5eJ"
      }
    },
    {
      "cell_type": "markdown",
      "source": [
        "# 3. Implementing logistic regression (1.5 points)\n",
        "\n",
        "Implement a basic logistic regression model and fit it to the data from the new `generate_data` function (below) using gradient descent.\n",
        "Your model should take the form `o = m*x + b`, where `o` is the output (logits), `x` is the input, `m` is a weight parameter, and `b` is a bias parameter.\n",
        "Train the model using the logistic loss function you derived in the previous problem.\n",
        "You must use only `numpy` and derive any derivatives yourself (i.e. no autograd from TensorFlow, MXNet, Pytorch, JAX etc!).\n",
        "Print out or plot the loss over the course of training.\n",
        "You should be able to get a loss that is close to zero by the end of training - make sure you achieve this and **explain why**."
      ],
      "metadata": {
        "id": "pSBRk8vpsqA3"
      }
    },
    {
      "cell_type": "code",
      "source": [
        "import numpy as np\n",
        "\n",
        "def generate_data():\n",
        "    size = 1000\n",
        "    rng = np.random.default_rng(seed=0)\n",
        "    y = 2*rng.integers(0, 2, size) - 1\n",
        "    x = rng.standard_normal((1000,)) + 4*y\n",
        "    return x, y"
      ],
      "metadata": {
        "id": "L150buNSoFes"
      },
      "execution_count": 16,
      "outputs": []
    },
    {
      "cell_type": "code",
      "source": [
        "\n",
        "# Logistic loss function\n",
        "def logistic_loss(y, o):\n",
        "    return np.log(1 + np.exp(-y * o))\n",
        "\n",
        "#derivative of logistic loss function\n",
        "def derivative_loss(y,o):\n",
        "    return -y*(1/(1+np.exp(-y*o)))\n",
        "\n",
        "# Logistic regression model\n",
        "class LogisticRegressionModel:\n",
        "    def __init__(self):\n",
        "        self.m = np.random.randn()\n",
        "        self.b = np.random.randn()\n",
        "\n",
        "    def predict(self, x):\n",
        "        return self.m * x + self.b\n",
        "\n",
        "    def loss(self, x, y):\n",
        "        o = self.predict(x)\n",
        "        return logistic_loss(y, o)\n",
        "    \n",
        "    def grad_m(self,x,y):\n",
        "        o = self.predict(x)\n",
        "        return derivative_loss(y,o)*x\n",
        "    \n",
        "    def grad_b(self,x,y):\n",
        "        o = self.predict(x)\n",
        "        return derivative_loss(y,o)\n",
        "\n",
        "#initialize the model \n",
        "model = LogisticRegressionModel()\n",
        "\n",
        "# Training loop\n",
        "x,y = generate_data()\n",
        "losses = []\n",
        "learning_rate = 0.1\n",
        "for i in range(1000):\n",
        "    loss = model.loss(x, y)\n",
        "    losses.append(loss)\n",
        "    d_m = model.grad_m(x,y)\n",
        "    d_b = model.grad_b(x,y)\n",
        "    model.m = model.m - learning_rate * d_m.mean()\n",
        "    model.b = model.b - learning_rate * d_b.mean()\n",
        "\n",
        "# Plot the loss over the course of training\n",
        "plt.plot(losses)\n",
        "plt.xlabel('Iteration')\n",
        "plt.ylabel('Loss')\n",
        "plt.show()"
      ],
      "metadata": {
        "colab": {
          "base_uri": "https://localhost:8080/",
          "height": 279
        },
        "id": "nveg57xMfr6o",
        "outputId": "c90d2c37-cb23-4279-a854-b9681f9c7d6d"
      },
      "execution_count": 17,
      "outputs": [
        {
          "output_type": "display_data",
          "data": {
            "text/plain": [
              "<Figure size 432x288 with 1 Axes>"
            ],
            "image/png": "[encoded data removed]"
          },
          "metadata": {
            "needs_background": "light"
          }
        }
      ]
    },
    {
      "cell_type": "markdown",
      "source": [
        "The model parameters are updated in the opposite direction of the gradient of the loss function at each iteration, which is the direction of steepest descent. By this way, the model parameters will converge to the minimum of the loss function which is the optimal solution for our problem."
      ],
      "metadata": {
        "id": "66ypTL77gy26"
      }
    }
  ]
}