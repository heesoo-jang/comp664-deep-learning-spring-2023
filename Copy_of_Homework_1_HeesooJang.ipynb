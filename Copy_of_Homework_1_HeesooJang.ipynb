{
  "nbformat": 4,
  "nbformat_minor": 0,
  "metadata": {
    "colab": {
      "provenance": [],
      "include_colab_link": true
    },
    "kernelspec": {
      "name": "python3",
      "display_name": "Python 3"
    },
    "accelerator": "GPU"
  },
  "cells": [
    {
      "cell_type": "markdown",
      "metadata": {
        "id": "view-in-github",
        "colab_type": "text"
      },
      "source": [
        "<a href=\"https://colab.research.google.com/github/heesoo-jang/comp664-deep-learning-spring-2023/blob/main/Copy_of_Homework_1_HeesooJang.ipynb\" target=\"_parent\"><img src=\"https://colab.research.google.com/assets/colab-badge.svg\" alt=\"Open In Colab\"/></a>"
      ]
    },
    {
      "cell_type": "code",
      "metadata": {
        "id": "pp-R4v8eehJ4"
      },
      "source": [
        "import numpy as np\n",
        "import matplotlib.pyplot as plt"
      ],
      "execution_count": 1,
      "outputs": []
    },
    {
      "cell_type": "code",
      "metadata": {
        "id": "up2bDpU9fCk3"
      },
      "source": [
        "def generate_data():\n",
        "    size = 1000\n",
        "    x = np.linspace(0, 1, size)\n",
        "    y = -10*x + 5\n",
        "    y += 15*np.logical_and(x > 0.75, x < 0.8).astype(float)\n",
        "    return x, y"
      ],
      "execution_count": 2,
      "outputs": []
    },
    {
      "cell_type": "markdown",
      "metadata": {
        "id": "hTUMzQT3f0wm"
      },
      "source": [
        "# 1. Inspect the data (0.5 points)\n",
        "\n",
        "Using `matplotlib`, create a scatter plot of the data returned by `generate_data()`.\n",
        "What is out of the ordinary about this line?"
      ]
    },
    {
      "cell_type": "code",
      "metadata": {
        "id": "eEfr6MfZfkyh",
        "outputId": "108f4e1c-7b7b-44dc-a444-c40c6fd85c04",
        "colab": {
          "base_uri": "https://localhost:8080/",
          "height": 265
        }
      },
      "source": [
        "x, y = generate_data()\n",
        "plt.scatter(x, y)\n",
        "plt.show()"
      ],
      "execution_count": 3,
      "outputs": [
        {
          "output_type": "display_data",
          "data": {
            "text/plain": [
              "<Figure size 432x288 with 1 Axes>"
            ],
            "image/png": "[encoded data removed]"
          },
          "metadata": {
            "needs_background": "light"
          }
        }
      ]
    },
    {
      "cell_type": "markdown",
      "source": [
        "Part of the data is not on the linear regression line."
      ],
      "metadata": {
        "id": "bqCc2zLdHYO1"
      }
    },
    {
      "cell_type": "markdown",
      "metadata": {
        "id": "DhgvBYNRfzG4"
      },
      "source": [
        "# 2. Implement linear regression (2 points)\n",
        "\n",
        "Implement a basic linear regression model which is fit to the data from `generate_data` using gradient descent.\n",
        "Your model should take the form `y = m*x + b`, where `y` is the output, `x` is the input, `m` is a weight parameter, and `b` is a bias parameter.\n",
        "You must use only `numpy` and derive any derivatives yourself (i.e. no autograd from TensorFlow, MXNet, Pytorch, JAX etc!).\n",
        "You should use a squared-error loss function.\n",
        "You are welcome to use any technique you want to decide when to stop training.\n",
        "Make sure you tune your optimization hyperparameters so that the model converges.\n",
        "Print out or plot the loss over the course of training."
      ]
    },
    {
      "cell_type": "code",
      "metadata": {
        "id": "RjPjNFSugtci",
        "colab": {
          "base_uri": "https://localhost:8080/",
          "height": 279
        },
        "outputId": "39054002-e6a5-486f-a30b-5e4654f031d1"
      },
      "source": [
        "def linear_regression_loss2(x, y, m, b, learning_rate=0.05, num_iterations=2000):\n",
        "    N = len(x)\n",
        "    losses = []\n",
        "    for i in range(num_iterations):\n",
        "        y_pred = m*x + b\n",
        "        loss = (1/(2*N))*np.sum((y - y_pred)**2)\n",
        "        losses.append(loss)\n",
        "        dm = -(1/N)*np.sum(x*(y - y_pred)) # partial derivative of loss in respect to m \n",
        "        db = -(1/N)*np.sum(y - y_pred)  # partial derivative of loss in respect to b \n",
        "        m = m - learning_rate*dm  # update m\n",
        "        b = b - learning_rate*db # update b\n",
        "    return m, b, losses\n",
        "\n",
        "x, y = generate_data() # ground truth data \n",
        "m, b, losses = linear_regression_loss2(x, y, 0, 0) # linear regression result\n",
        "\n",
        "plt.plot(losses)\n",
        "plt.xlabel('iterations')\n",
        "plt.ylabel('loss')\n",
        "plt.show()"
      ],
      "execution_count": 16,
      "outputs": [
        {
          "output_type": "display_data",
          "data": {
            "text/plain": [
              "<Figure size 432x288 with 1 Axes>"
            ],
            "image/png": "[encoded data removed]"
          },
          "metadata": {
            "needs_background": "light"
          }
        }
      ]
    },
    {
      "cell_type": "markdown",
      "metadata": {
        "id": "p10i06F4KCJl"
      },
      "source": [
        "# 3. Analyze the result (0.5 points)\n",
        "\n",
        "Print out the values of `w` and `b` found by your model after training and compare them to the ground truth values (which can be found inside the code of the `generate_data` function).\n",
        "Are they close?\n",
        "Recreate the scatter plot you generated in question 1 and plot the model as a line on the same plot.\n",
        "What went wrong?\n"
      ]
    },
    {
      "cell_type": "code",
      "metadata": {
        "id": "pS11vK3nkK_c",
        "colab": {
          "base_uri": "https://localhost:8080/"
        },
        "outputId": "f890778b-9e6b-4587-87e2-da4416b9a443"
      },
      "source": [
        "print(\"m: \", m)\n",
        "print(\"b: \", b)"
      ],
      "execution_count": 17,
      "outputs": [
        {
          "output_type": "stream",
          "name": "stdout",
          "text": [
            "m:  -7.516936911827485\n",
            "b:  4.508096990572267\n"
          ]
        }
      ]
    },
    {
      "cell_type": "code",
      "source": [
        "plt.scatter(x, y)\n",
        "plt.plot(x, m*x + b, color='red')\n",
        "plt.show()"
      ],
      "metadata": {
        "colab": {
          "base_uri": "https://localhost:8080/",
          "height": 265
        },
        "id": "sXGPlI-5JiWO",
        "outputId": "ece0cdf7-47e2-4abe-edeb-92bfe384bf2a"
      },
      "execution_count": 18,
      "outputs": [
        {
          "output_type": "display_data",
          "data": {
            "text/plain": [
              "<Figure size 432x288 with 1 Axes>"
            ],
            "image/png": "[encoded data removed]"
          },
          "metadata": {
            "needs_background": "light"
          }
        }
      ]
    },
    {
      "cell_type": "markdown",
      "metadata": {
        "id": "PtnLN-bol1Qv"
      },
      "source": [
        "# 4. \"Robust\" linear regression (0.5 points)\n",
        "\n",
        "Implement a linear regression model exactly like the one you created in question 2, except using a L1 loss (absolute difference) instead of a squared L2 loss (squared error).\n",
        "You should be able to copy and paste your code from question 2 and only change a few lines.\n",
        "Print out or plot the loss over the course of training.\n",
        "What is different about the loss trajectory compared to the squared-error linear regression?"
      ]
    },
    {
      "cell_type": "code",
      "metadata": {
        "id": "TSCjJq0VLDRT",
        "colab": {
          "base_uri": "https://localhost:8080/",
          "height": 279
        },
        "outputId": "4ffc4140-29f3-41d8-9e76-00c73a84da3e"
      },
      "source": [
        "def linear_regression_loss1(x, y, m, b, learning_rate=0.05, num_iterations=2000):\n",
        "    N = len(x)\n",
        "    losses = []\n",
        "    for i in range(num_iterations):\n",
        "        y_pred = m*x + b\n",
        "        loss = (1/N)*np.sum(np.abs(y - y_pred)) # mean absolute error\n",
        "        losses.append(loss)\n",
        "        dm = -(1/N)*np.sum(x*np.sign(y - y_pred)) # partial derivative of loss in respect to m \n",
        "        db = -(1/N)*np.sum(np.sign(y - y_pred))  # partial derivative of loss in respect to b \n",
        "        m = m - learning_rate*dm  # update m\n",
        "        b = b - learning_rate*db # update b\n",
        "    return m, b, losses\n",
        "\n",
        "x, y = generate_data() # ground truth data \n",
        "m, b, losses = linear_regression_loss1(x, y, 0, 0) # linear regression result\n",
        "\n",
        "plt.plot(losses)\n",
        "plt.xlabel('iterations')\n",
        "plt.ylabel('loss')\n",
        "plt.show()"
      ],
      "execution_count": 12,
      "outputs": [
        {
          "output_type": "display_data",
          "data": {
            "text/plain": [
              "<Figure size 432x288 with 1 Axes>"
            ],
            "image/png": "[encoded data removed]"
          },
          "metadata": {
            "needs_background": "light"
          }
        }
      ]
    },
    {
      "cell_type": "markdown",
      "metadata": {
        "id": "xT_JGyk7LXTH"
      },
      "source": [
        "# 5. Analyze the result (0.5 points)\n",
        "\n",
        "Print out the new values of `w` and `b` found by your model after training.\n",
        "Are they closer to the true values used in `generate_data`?\n",
        "Plot the model as a line again.\n",
        "Why do you think the behavior is different?"
      ]
    },
    {
      "cell_type": "code",
      "source": [
        "print(\"m: \", m)\n",
        "print(\"b: \", b)"
      ],
      "metadata": {
        "colab": {
          "base_uri": "https://localhost:8080/"
        },
        "id": "KeE2U8moJgBY",
        "outputId": "6b2015fb-e06f-4459-a126-045a3e34977f"
      },
      "execution_count": 13,
      "outputs": [
        {
          "output_type": "stream",
          "name": "stdout",
          "text": [
            "m:  -9.971100800800565\n",
            "b:  5.037100000000028\n"
          ]
        }
      ]
    },
    {
      "cell_type": "code",
      "source": [
        "plt.scatter(x, y)\n",
        "plt.plot(x, m*x + b, color='red')\n",
        "plt.show()"
      ],
      "metadata": {
        "colab": {
          "base_uri": "https://localhost:8080/",
          "height": 265
        },
        "id": "YBtTDrkwPpMr",
        "outputId": "f934ba50-a1fd-41d6-9e2c-7c7cb9556434"
      },
      "execution_count": 14,
      "outputs": [
        {
          "output_type": "display_data",
          "data": {
            "text/plain": [
              "<Figure size 432x288 with 1 Axes>"
            ],
            "image/png": "[encoded data removed]"
          },
          "metadata": {
            "needs_background": "light"
          }
        }
      ]
    },
    {
      "cell_type": "markdown",
      "source": [
        "The loss function using L2 loss is more sensitive to outlier data than the loss function using L1 loss."
      ],
      "metadata": {
        "id": "df5qYCqFQGZV"
      }
    }
  ]
}